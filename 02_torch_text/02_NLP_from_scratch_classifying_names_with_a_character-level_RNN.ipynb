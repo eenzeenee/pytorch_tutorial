{
 "cells": [
  {
   "cell_type": "code",
   "execution_count": 1,
   "metadata": {},
   "outputs": [],
   "source": [
    "# 문자 단위 RNN : 단어를 문자의 연속으로 읽어 들여서 각 단계의 예측과 hidden state를 출력하고 다음 단계에 hidden state 전달\n",
    "# 단어가 속한 클래스로 출력이 되도록 최종 예측 선택"
   ]
  },
  {
   "cell_type": "code",
   "execution_count": 1,
   "metadata": {},
   "outputs": [
    {
     "name": "stdout",
     "output_type": "stream",
     "text": [
      "['../data/02_torch_text_data/names/Czech.txt', '../data/02_torch_text_data/names/German.txt', '../data/02_torch_text_data/names/Arabic.txt', '../data/02_torch_text_data/names/Japanese.txt', '../data/02_torch_text_data/names/Chinese.txt', '../data/02_torch_text_data/names/Vietnamese.txt', '../data/02_torch_text_data/names/Russian.txt', '../data/02_torch_text_data/names/French.txt', '../data/02_torch_text_data/names/Irish.txt', '../data/02_torch_text_data/names/English.txt', '../data/02_torch_text_data/names/Spanish.txt', '../data/02_torch_text_data/names/Greek.txt', '../data/02_torch_text_data/names/Italian.txt', '../data/02_torch_text_data/names/Portuguese.txt', '../data/02_torch_text_data/names/Scottish.txt', '../data/02_torch_text_data/names/Dutch.txt', '../data/02_torch_text_data/names/Korean.txt', '../data/02_torch_text_data/names/Polish.txt']\n",
      "Slusarski\n"
     ]
    }
   ],
   "source": [
    "from __future__ import unicode_literals, print_function, division\n",
    "from io import open\n",
    "import glob\n",
    "import os\n",
    "\n",
    "def findFiles(path): \n",
    "    return glob.glob(path)\n",
    "\n",
    "print(findFiles('../data/02_torch_text_data/names/*.txt'))\n",
    "\n",
    "import unicodedata\n",
    "import string\n",
    "\n",
    "all_letters = string.ascii_letters + \".,;'\"\n",
    "n_letters = len(all_letters)\n",
    "\n",
    "# 유니코드 문자열을 ASCII 문자열로 변환\n",
    "\n",
    "def unicodeToascii(s):\n",
    "    return \"\".join(\n",
    "        c for c in unicodedata.normalize('NFD', s)\n",
    "        if unicodedata.category(c) != 'Mn'\n",
    "        and c in all_letters)\n",
    "\n",
    "print(unicodeToascii('Ślusàrski'))\n",
    "\n",
    "# 각 언어의 이름 목록인 category_lines 사전 생성\n",
    "\n",
    "category_lines = {}\n",
    "all_categories = []\n",
    "\n",
    "# 파일을 읽고 줄 단위로 분리\n",
    "\n",
    "def readLines(filename):\n",
    "    lines = open(filename, encoding='utf-8').read().strip().split('\\n')\n",
    "    return [unicodeToascii(line) for line in lines]\n",
    "\n",
    "for filename in findFiles('../data/02_torch_text_data/names/*.txt'):\n",
    "    category = os.path.splitext(os.path.basename(filename))[0]\n",
    "    all_categories.append(category)\n",
    "    lines = readLines(filename)\n",
    "    category_lines[category] = lines\n",
    "    \n",
    "n_categories = len(all_categories)"
   ]
  },
  {
   "cell_type": "code",
   "execution_count": 2,
   "metadata": {},
   "outputs": [
    {
     "name": "stdout",
     "output_type": "stream",
     "text": [
      "['Abandonato', 'Abatangelo', 'Abatantuono', 'Abate', 'Abategiovanni']\n"
     ]
    }
   ],
   "source": [
    "# 각 category(언어)를 line(이름)에 매칭하는 사전인 category_lines 제작 완료\n",
    "# 나중에 참조가능하도록 all_categories와 n_categories도 추적함\n",
    "\n",
    "print(category_lines['Italian'][:5])"
   ]
  },
  {
   "cell_type": "code",
   "execution_count": 5,
   "metadata": {},
   "outputs": [
    {
     "name": "stdout",
     "output_type": "stream",
     "text": [
      "[[0. 0. 0. 0. 0. 0. 0. 0. 0. 0. 0. 0. 0. 0. 0. 0. 0. 0. 0. 0. 0. 0. 0. 0.\n",
      "  0. 0. 0. 0. 0. 0. 0. 0. 0. 0. 0. 1. 0. 0. 0. 0. 0. 0. 0. 0. 0. 0. 0. 0.\n",
      "  0. 0. 0. 0. 0. 0. 0. 0.]]\n",
      "(5, 1, 56)\n"
     ]
    }
   ],
   "source": [
    "# 이름을 Tensor로 변경\n",
    "\n",
    "import torch\n",
    "import numpy as np\n",
    "# all_letters로 문자의 주소 찾기 : ex) \"a\" = 0\n",
    "def letterToindex(letter):\n",
    "    return all_letters.find(letter)    # all_letteres의 인덱스로 문자 주소 사용\n",
    "\n",
    "# 검증을 위해 한 개의 문자를 <1 * n_letters> Tensor로 변환\n",
    "def letterTotensor(letter):\n",
    "    tensor = torch.zeros(1,n_letters)\n",
    "    # tensor = torch.zeros(1, n_letters)\n",
    "    tensor[0][letterToindex(letter)] = 1\n",
    "    return tensor\n",
    "\n",
    "# 한 line(이름)을 <line_length * 1 * n_letters> 혹은 one-hot 문자 벡터 array로 변경\n",
    "\n",
    "def lineTotensor(line):\n",
    "    tensor = torch.zeros(len(line), 1, n_letters)\n",
    "    # tensor = torch.zeros(len(line), 1, n_letters)\n",
    "    for li, letter in enumerate(line):\n",
    "        tensor[li][0][letterToindex(letter)] = 1\n",
    "    return tensor\n",
    "\n",
    "print(letterTotensor('J'))\n",
    "\n",
    "print(lineTotensor('Jones').shape)"
   ]
  },
  {
   "cell_type": "code",
   "execution_count": 6,
   "metadata": {},
   "outputs": [],
   "source": [
    "# 네트워크 생성\n",
    "# Autograd 전에, Torch에서 RNN 생성 : 여러 시간 단계에 거쳐 매개변수 복제하는 작업 포함함\n",
    "# 계층 : hidden state와 Gradient를 가짐"
   ]
  },
  {
   "cell_type": "code",
   "execution_count": null,
   "metadata": {},
   "outputs": [],
   "source": [
    "import torch.nn as nn\n",
    "\n",
    "class RNN(nn.Module):\n",
    "    def __init__(self, input_size, hidden_size, output_size):\n",
    "        super(RNN, self).__init__()\n",
    "        self.hidden_size = hidden_size\n",
    "        self.i2h = nn.Linear(input_size + hidden_size, hidden_size)\n",
    "        self.i2o = nn.Linear(input_size + hidden_size, output_size)\n",
    "        self.softmax = nn.LogSoftmax(dim=1)\n",
    "        \n",
    "    def forward(self, input, hidden):\n",
    "        combined = torch.cat((input, hidden), 1)\n",
    "        hidden = self.i2h(combined)\n",
    "        output = self.i2o(combined)\n",
    "        output = self.softmax(output)\n",
    "        return output, hidden\n",
    "    \n",
    "    def initHidden(self):\n",
    "        return np.zeros((1, self.hidden_size))\n",
    "    \n",
    "n_hidden = 128\n",
    "\n",
    "rnn = RNN(n_letters, n_hidden, n_categories)"
   ]
  },
  {
   "cell_type": "code",
   "execution_count": null,
   "metadata": {},
   "outputs": [],
   "source": [
    "# 네트워크 한 단계 실행하기 위해\n",
    "# 입력 (현재 문자 Tensor) + 이전의 hidden state(처음에는 0으로 초기화) 전달 필요\n",
    "# 출력 (각 언어의 등장 확률) + 다음 hidden state를 반환 받음\n",
    "\n",
    "input = letterTotensor('A')\n",
    "hidden = torch.zeros(1, n_hidden)\n",
    "\n",
    "output, next_hidden = rnn(input, hidden)"
   ]
  },
  {
   "cell_type": "code",
   "execution_count": null,
   "metadata": {},
   "outputs": [],
   "source": [
    "# 효율성을 위해 ~ 매 단계마다 새로운 Tensor를 만들고 싶지 않으므로 \n",
    "# letterTotensor 대신 lineTotensor를 잘라서 사용\n",
    "# Tensor의 pre-computing 배치에 의해 더욱 최적화될 수 있음\n",
    "\n",
    "input = lineTotensor('Albert')\n",
    "hidden = torch.zeros(1, n_hidden)\n",
    "\n",
    "output, next_hidden = rnn(input[0], hidden)"
   ]
  },
  {
   "cell_type": "code",
   "execution_count": null,
   "metadata": {},
   "outputs": [],
   "source": [
    "# 학습 준비\n",
    "# 네트워크의 출력 (각 카테고리의 likelihood)을 통해 가장 확률이 높은 카테고리 이름(언어), 카테고리 번호 반환\n",
    "\n",
    "def categoryFromoutput(output):\n",
    "    top_n, top_i = output.topk(1)   # Tensor의 가장 큰 값 및 주소\n",
    "    category_i = top_i[0].item()    # Tensor에서 정수 값으로 변경\n",
    "    return all_categories[category_i], category_i\n",
    "\n",
    "print(categoryFromoutput(output))"
   ]
  },
  {
   "cell_type": "code",
   "execution_count": null,
   "metadata": {},
   "outputs": [],
   "source": [
    "# 학습 예시를 얻는 빠른 방법\n",
    "\n",
    "import random\n",
    "\n",
    "def randomChoice(l):\n",
    "    return l[random.randint(0, len(l)-1)]\n",
    "\n",
    "def randomTrainingExample():\n",
    "    category = randomChoice(all_categories)\n",
    "    line = randomChoice(category_lines[category])\n",
    "    category_tensor = torch.tensor([all_categories.index(category)], dtype=torch.long)\n",
    "    line_tensor = lineTotensor(line)\n",
    "    return category, line, category_tensor, line_tensor\n",
    "\n",
    "for i in range(10):\n",
    "    category, line, category_tensor, line_tensor = randomTrainingExample()\n",
    "    print('category =', category, '/ line =', line)"
   ]
  },
  {
   "cell_type": "code",
   "execution_count": null,
   "metadata": {},
   "outputs": [],
   "source": [
    "# 네트워크 학습\n",
    "# RNN의 마지막 레이어가 nn.LogSoftmax -> 손실함수 : nn.NLLoss 적합함\n",
    "\n",
    "criterion = nn.NLLoss()"
   ]
  },
  {
   "cell_type": "code",
   "execution_count": null,
   "metadata": {},
   "outputs": [],
   "source": [
    "# 학습 루프 설명\n",
    "## 입력과 타겟 Tensor 생성\n",
    "## 0으로 초기화된 hidden state 생성\n",
    "## 각 문자 읽어들이기 : 다음 문자를 위한 hidden state 유지\n",
    "## 타겟과 최종 출력 비교\n",
    "## 역전파\n",
    "## 출력과 손실 반환\n",
    "\n",
    "learning_rate = 0.005       ## 너무 높게 설정하면 발산할 수 있고, 너무 낮게 설정하면 학습이 되지 않을 수 있음\n",
    "\n",
    "def train(category_tensor, line_tensor):    # 타겟 텐서와 입력 텐서 input\n",
    "    hidden = rnn.initHidden()               # hidden_state 초기화\n",
    "    rnn.zero_grad()\n",
    "\n",
    "    for i in range(line_tensor.size()[0]):  \n",
    "        output, hidden = rnn(line_tensor[i], hidden)    # 예측 텐서와 hidden state 출력 ~ hidden state의 경우 rnn 다음 입력으로 사용됨\n",
    "    \n",
    "    loss = criterion(output, category_tensor)           # 오차 계산\n",
    "    loss.backward()                                     # 역전파\n",
    "\n",
    "    for p in rnn.parameters():\n",
    "        p.data.add_(p.grad.data, alpha=learning_rate)   # 매개변수 경사도에 학습률을 곱해서 그 매개변수 값에 더함\n",
    "\n",
    "    return output, loss.item()                          # 출력과 손실 반환"
   ]
  },
  {
   "cell_type": "code",
   "execution_count": null,
   "metadata": {},
   "outputs": [],
   "source": [
    "# 예시 데이터\n",
    "# 1000개의 예시 데이터로 print_every 예제만 출력하고, 손실의 평균을 얻음\n",
    "\n",
    "import time\n",
    "import math\n",
    "n_iters = 100000\n",
    "print_every = 5000\n",
    "plot_every = 1000\n",
    "\n",
    "# 도식화를 위한 손실 추적\n",
    "current_loss = 0\n",
    "all_losses = []\n",
    "\n",
    "def timeSince(since):\n",
    "    now = time.time()\n",
    "    s = now - since\n",
    "    m = math.floor(s/60)\n",
    "    s -= m*60\n",
    "    return '%dm %ds'%(m,s)\n",
    "\n",
    "start = time.time()\n",
    "\n",
    "for iter in range(1, n_iters + 1):\n",
    "    category, line, category_tensor, line_tensor = randomTrainingExample()\n",
    "    output, loss = train(category_tensor, line_tensor)\n",
    "    current_loss += loss\n",
    "\n",
    "    # iter 숫자, 손실, 이름, 예측 화면 출력\n",
    "\n",
    "    if iter % print_every == 0:\n",
    "        guess, guess_i = categoryFromoutput(output)\n",
    "        correct = '✓' if guess == category else '✗ (%s)' % category\n",
    "        print('%d %d%% (%s) %.4f %s / %s %s' % (iter, iter / n_iters * 100, timeSince(start), loss, line, guess, correct))\n",
    "\n",
    "    # 현재 평균 손실을 전체 손실 리스트에 추가\n",
    "\n",
    "    if iter % plot_every == 0:\n",
    "        all_losses.append(current_loss / plot_every)\n",
    "        current_loss = 0"
   ]
  },
  {
   "cell_type": "code",
   "execution_count": null,
   "metadata": {},
   "outputs": [],
   "source": [
    "# 결과 도식화 - all_losses를 이용하여\n",
    "\n",
    "import matplotlib.pyplot as plt\n",
    "import matplotlib.ticker as ticker\n",
    "\n",
    "plt.figure()\n",
    "\n",
    "plt.plot(all_losses)"
   ]
  },
  {
   "cell_type": "code",
   "execution_count": null,
   "metadata": {},
   "outputs": [],
   "source": [
    "# 결과 평가\n",
    "\n",
    "# confusion matrix에서 정확한 예측을 추적\n",
    "\n",
    "confusion = torch.zeros(n_categories, n_categories)\n",
    "n_confusion = 10000\n",
    "\n",
    "# 주어진 라인의 출력 반환\n",
    "def evaluate(line_tensor):\n",
    "    hidden = rnn.initHidden()\n",
    "\n",
    "    for i in range(line_tensor.size()[0]):\n",
    "        output, hidden = rnn(line_tensor[i], hidden)\n",
    "\n",
    "    return output\n",
    "\n",
    "# 예시들 중 어떤 것이 정확히 예측되었는지 기록\n",
    "\n",
    "for i in range(n_categories):\n",
    "    confusion[i] = confusion[i] / confusion[i].sum()\n",
    "    output = evaluate(line_tensor)\n",
    "    _, guess_i = categoryFromoutput(output)     # 예측 카테고리 이름과 인덱스 반환\n",
    "    category_i = all_categories.index(category)\n",
    "    confusion[category_i][guess_i] += 1\n",
    "\n",
    "# 모든 행을 합계로 나누어 정규화 (확률)\n",
    "for i in range(n_categories):\n",
    "    confusion[i] = confusion[i] / confusion[i].sum()\n",
    "\n",
    "# 도식 설정\n",
    "fig = plt.figure()\n",
    "ax = fig.add_subplot(111)\n",
    "cax = ax.matshow(confusion.numpy())\n",
    "fig.colorbar(cax)\n",
    "\n",
    "# 축 설정\n",
    "ax.set_xticklabels([''] + all_categories, rotation=90)\n",
    "ax.set_yticklables([''] + all_categories)\n",
    "\n",
    "# 모든 tick에서 레이블 지정\n",
    "ax.xaxis.set_major_locator(ticker.MultipleLocator(1))\n",
    "ax.yaxis.set_major_locator(ticker.MultipleLocator(1))\n",
    "\n",
    "# sphinx_gallery_thumbnail_number = 2\n",
    "plt.show()\n"
   ]
  },
  {
   "cell_type": "code",
   "execution_count": null,
   "metadata": {},
   "outputs": [],
   "source": [
    "# 사용자 입력으로 실행될 수 있도록\n",
    "\n",
    "def predict(input_line, n_predictions=3):\n",
    "    print('\\n> %s' % input_line)\n",
    "    with torch.no_grad():\n",
    "        output = evalutate(lineTotensor(input_line))\n",
    "\n",
    "        topv, topi = output.topk(n_predictions, 1, True)\n",
    "        predictions = []\n",
    "\n",
    "        for i in range(n_predictions):\n",
    "            value = topv[0][i].item()\n",
    "            category_index = topi[0][i].item()\n",
    "            print('(%.2f) %s' % (value, all_categories[category_index]))\n",
    "            predictions.append([value, all_categories[category_index]])\n",
    "\n",
    "while True:\n",
    "    user_input = input()\n",
    "    if user_input == 'exit':\n",
    "        break\n",
    "    predict(user_input)"
   ]
  }
 ],
 "metadata": {
  "kernelspec": {
   "display_name": "torch_tutorial_0328",
   "language": "python",
   "name": "torch_tutorial"
  },
  "language_info": {
   "codemirror_mode": {
    "name": "ipython",
    "version": 3
   },
   "file_extension": ".py",
   "mimetype": "text/x-python",
   "name": "python",
   "nbconvert_exporter": "python",
   "pygments_lexer": "ipython3",
   "version": "3.8.5"
  }
 },
 "nbformat": 4,
 "nbformat_minor": 4
}
