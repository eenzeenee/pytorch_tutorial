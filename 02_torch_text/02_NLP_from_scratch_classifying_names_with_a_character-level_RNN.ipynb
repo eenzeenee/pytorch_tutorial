{
 "cells": [
  {
   "cell_type": "code",
   "execution_count": 1,
   "metadata": {},
   "outputs": [],
   "source": [
    "# 문자 단위 RNN : 단어를 문자의 연속으로 읽어 들여서 각 단계의 예측과 hidden state를 출력하고 다음 단계에 hidden state 전달\n",
    "# 단어가 속한 클래스로 출력이 되도록 최종 예측 선택"
   ]
  },
  {
   "cell_type": "code",
   "execution_count": 1,
   "metadata": {},
   "outputs": [
    {
     "name": "stdout",
     "output_type": "stream",
     "text": [
      "['../data/02_torch_text_data/names/Czech.txt', '../data/02_torch_text_data/names/German.txt', '../data/02_torch_text_data/names/Arabic.txt', '../data/02_torch_text_data/names/Japanese.txt', '../data/02_torch_text_data/names/Chinese.txt', '../data/02_torch_text_data/names/Vietnamese.txt', '../data/02_torch_text_data/names/Russian.txt', '../data/02_torch_text_data/names/French.txt', '../data/02_torch_text_data/names/Irish.txt', '../data/02_torch_text_data/names/English.txt', '../data/02_torch_text_data/names/Spanish.txt', '../data/02_torch_text_data/names/Greek.txt', '../data/02_torch_text_data/names/Italian.txt', '../data/02_torch_text_data/names/Portuguese.txt', '../data/02_torch_text_data/names/Scottish.txt', '../data/02_torch_text_data/names/Dutch.txt', '../data/02_torch_text_data/names/Korean.txt', '../data/02_torch_text_data/names/Polish.txt']\n",
      "Slusarski\n"
     ]
    }
   ],
   "source": [
    "from __future__ import unicode_literals, print_function, division\n",
    "from io import open\n",
    "import glob\n",
    "import os\n",
    "\n",
    "def findFiles(path): \n",
    "    return glob.glob(path)\n",
    "\n",
    "print(findFiles('../data/02_torch_text_data/names/*.txt'))\n",
    "\n",
    "import unicodedata\n",
    "import string\n",
    "\n",
    "all_letters = string.ascii_letters + \".,;'\"\n",
    "n_letters = len(all_letters)\n",
    "\n",
    "# 유니코드 문자열을 ASCII 문자열로 변환\n",
    "\n",
    "def unicodeToascii(s):\n",
    "    return \"\".join(\n",
    "        c for c in unicodedata.normalize('NFD', s)\n",
    "        if unicodedata.category(c) != 'Mn'\n",
    "        and c in all_letters)\n",
    "\n",
    "print(unicodeToascii('Ślusàrski'))\n",
    "\n",
    "# 각 언어의 이름 목록인 category_lines 사전 생성\n",
    "\n",
    "category_lines = {}\n",
    "all_categories = []\n",
    "\n",
    "# 파일을 읽고 줄 단위로 분리\n",
    "\n",
    "def readLines(filename):\n",
    "    lines = open(filename, encoding='utf-8').read().strip().split('\\n')\n",
    "    return [unicodeToascii(line) for line in lines]\n",
    "\n",
    "for filename in findFiles('../data/02_torch_text_data/names/*.txt'):\n",
    "    category = os.path.splitext(os.path.basename(filename))[0]\n",
    "    all_categories.append(category)\n",
    "    lines = readLines(filename)\n",
    "    category_lines[category] = lines\n",
    "    \n",
    "n_categories = len(all_categories)"
   ]
  },
  {
   "cell_type": "code",
   "execution_count": 2,
   "metadata": {},
   "outputs": [
    {
     "name": "stdout",
     "output_type": "stream",
     "text": [
      "['Abandonato', 'Abatangelo', 'Abatantuono', 'Abate', 'Abategiovanni']\n"
     ]
    }
   ],
   "source": [
    "# 각 category(언어)를 line(이름)에 매칭하는 사전인 category_lines 제작 완료\n",
    "# 나중에 참조가능하도록 all_categories와 n_categories도 추적함\n",
    "\n",
    "print(category_lines['Italian'][:5])"
   ]
  },
  {
   "cell_type": "code",
   "execution_count": 5,
   "metadata": {},
   "outputs": [
    {
     "name": "stdout",
     "output_type": "stream",
     "text": [
      "[[0. 0. 0. 0. 0. 0. 0. 0. 0. 0. 0. 0. 0. 0. 0. 0. 0. 0. 0. 0. 0. 0. 0. 0.\n",
      "  0. 0. 0. 0. 0. 0. 0. 0. 0. 0. 0. 1. 0. 0. 0. 0. 0. 0. 0. 0. 0. 0. 0. 0.\n",
      "  0. 0. 0. 0. 0. 0. 0. 0.]]\n",
      "(5, 1, 56)\n"
     ]
    }
   ],
   "source": [
    "# 이름을 Tensor로 변경\n",
    "\n",
    "import torch\n",
    "import numpy as np\n",
    "# all_letters로 문자의 주소 찾기 : ex) \"a\" = 0\n",
    "def letterToindex(letter):\n",
    "    return all_letters.find(letter)    # all_letteres의 인덱스로 문자 주소 사용\n",
    "\n",
    "# 검증을 위해 한 개의 문자를 <1 * n_letters> Tensor로 변환\n",
    "def letterTotensor(letter):\n",
    "    tensor = torch.zeros(1,n_letters)\n",
    "    # tensor = torch.zeros(1, n_letters)\n",
    "    tensor[0][letterToindex(letter)] = 1\n",
    "    return tensor\n",
    "\n",
    "# 한 line(이름)을 <line_length * 1 * n_letters> 혹은 one-hot 문자 벡터 array로 변경\n",
    "\n",
    "def lineTotensor(line):\n",
    "    tensor = torch.zeros(len(line), 1, n_letters)\n",
    "    # tensor = torch.zeros(len(line), 1, n_letters)\n",
    "    for li, letter in enumerate(line):\n",
    "        tensor[li][0][letterToindex(letter)] = 1\n",
    "    return tensor\n",
    "\n",
    "print(letterTotensor('J'))\n",
    "\n",
    "print(lineTotensor('Jones').shape)"
   ]
  },
  {
   "cell_type": "code",
   "execution_count": 6,
   "metadata": {},
   "outputs": [],
   "source": [
    "# 네트워크 생성\n",
    "# Autograd 전에, Torch에서 RNN 생성 : 여러 시간 단계에 거쳐 매개변수 복제하는 작업 포함함\n",
    "# 계층 : hidden state와 Gradient를 가짐"
   ]
  },
  {
   "cell_type": "code",
   "execution_count": null,
   "metadata": {},
   "outputs": [],
   "source": [
    "import torch.nn as nn\n",
    "\n",
    "class RNN(nn.Module):\n",
    "    def __init__(self, input_size, hidden_size, output_size):\n",
    "        super(RNN, self).__init__()\n",
    "        self.hidden_size = hidden_size\n",
    "        self.i2h = nn.Linear(input_size + hidden_size, hidden_size)\n",
    "        self.i2o = nn.Linear(input_size + hidden_size, output_size)\n",
    "        self.softmax = nn.LogSoftmax(dim=1)\n",
    "        \n",
    "    def forward(self, input, hidden):\n",
    "        combined = torch.cat((input, hidden), 1)\n",
    "        hidden = self.i2h(combined)\n",
    "        output = self.i2o(combined)\n",
    "        output = self.softmax(output)\n",
    "        return output, hidden\n",
    "    \n",
    "    def initHidden(self):\n",
    "        return np.zeros((1, self.hidden_size))\n",
    "    \n",
    "n_hidden = 128\n",
    "\n",
    "rnn = RNN(n_letters, n_hidden, n_categories)"
   ]
  },
  {
   "cell_type": "code",
   "execution_count": null,
   "metadata": {},
   "outputs": [],
   "source": [
    "# 네트워크 한 단계 실행하기 위해\n",
    "# 입력 (현재 문자 Tensor) + 이전의 hidden state(처음에는 0으로 초기화) 전달 필요\n",
    "# 출력 (각 언어의 등장 확률) + 다음 hidden state를 반환 받음\n",
    "\n",
    "input = letterTotensor('A')\n",
    "hidden = torch.zeros(1, n_hidden)\n",
    "\n",
    "output, next_hidden = rnn(input, hidden)"
   ]
  },
  {
   "cell_type": "code",
   "execution_count": null,
   "metadata": {},
   "outputs": [],
   "source": [
    "# 효율성을 위해 ~ 매 단계마다 새로운 Tensor를 만들고 싶지 않으므로 \n",
    "# letterTotensor 대신 lineTotensor를 잘라서 사용\n",
    "# Tensor의 pre-computing 배치에 의해 더욱 최적화될 수 있음\n",
    "\n",
    "input = lineTotensor('Albert')\n",
    "hidden = torch.zeros(1, n_hidden)\n",
    "\n",
    "output, next_hidden = rnn(input[0], hidden)"
   ]
  },
  {
   "cell_type": "code",
   "execution_count": null,
   "metadata": {},
   "outputs": [],
   "source": [
    "# 학습 준비\n",
    "# 네트워크의 출력 (각 카테고리의 likelihood)을 통해 가장 확률이 높은 카테고리 이름(언어), 카테고리 번호 반환\n",
    "\n",
    "def categoryFromoutput(output):\n",
    "    top_n, top_i = output.topk(1)   # Tensor의 가장 큰 값 및 주소\n",
    "    category_i = top_i[0].item()    # Tensor에서 정수 값으로 변경\n",
    "    return all_categories[category_i], category_i\n",
    "\n",
    "print(categoryFromoutput(output))"
   ]
  },
  {
   "cell_type": "code",
   "execution_count": null,
   "metadata": {},
   "outputs": [],
   "source": [
    "# 학습 예시를 얻는 빠른 방법\n",
    "\n",
    "import random\n",
    "\n",
    "def randomChoice()"
   ]
  },
  {
   "cell_type": "code",
   "execution_count": null,
   "metadata": {},
   "outputs": [],
   "source": []
  },
  {
   "cell_type": "code",
   "execution_count": null,
   "metadata": {},
   "outputs": [],
   "source": []
  }
 ],
 "metadata": {
  "kernelspec": {
   "display_name": "torch_tutorial_0328",
   "language": "python",
   "name": "torch_tutorial"
  },
  "language_info": {
   "codemirror_mode": {
    "name": "ipython",
    "version": 3
   },
   "file_extension": ".py",
   "mimetype": "text/x-python",
   "name": "python",
   "nbconvert_exporter": "python",
   "pygments_lexer": "ipython3",
   "version": "3.8.5"
  }
 },
 "nbformat": 4,
 "nbformat_minor": 4
}
