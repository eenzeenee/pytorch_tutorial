{
 "cells": [
  {
   "cell_type": "code",
   "execution_count": 1,
   "metadata": {},
   "outputs": [],
   "source": [
    "import os\n",
    "import torch\n",
    "from torch import nn\n",
    "from torch.utils.data import DataLoader\n",
    "from torchvision import datasets, transforms"
   ]
  },
  {
   "cell_type": "code",
   "execution_count": 3,
   "metadata": {},
   "outputs": [
    {
     "name": "stdout",
     "output_type": "stream",
     "text": [
      "using cpu device\n"
     ]
    }
   ],
   "source": [
    "device = 'cuda' if torch.cuda.is_available() else 'cpu'\n",
    "print(f'using {device} device')"
   ]
  },
  {
   "cell_type": "code",
   "execution_count": 4,
   "metadata": {},
   "outputs": [],
   "source": [
    "# 클래스 정의하기\n",
    "## 신경망 모델을 nn.Module의 하위클래스로 정의하고 __init__에서 신경망 계층들을 초기화함\n",
    "## forward 메소드에 입력 데이터에 대한 연산들을 구현함\n",
    "\n",
    "\n",
    "class NeuralNetwork(nn.Module):\n",
    "    def __init__(self):\n",
    "        super(NeuralNetwork, self).__init__()\n",
    "        self.flatten = nn.Flatten()\n",
    "        self.linear_relu_stack = nn.Sequential(\n",
    "            nn.Linear(28*28, 512),\n",
    "            nn.ReLU(),\n",
    "            nn.Linear(512, 512),\n",
    "            nn.ReLU(),\n",
    "            nn.Linear(512, 10),\n",
    "        )\n",
    "    def forward(self, x):\n",
    "        x = self.flatten(x)\n",
    "        logits = self.linear_relu_stack(x)\n",
    "        return logits"
   ]
  },
  {
   "cell_type": "code",
   "execution_count": 5,
   "metadata": {},
   "outputs": [
    {
     "name": "stdout",
     "output_type": "stream",
     "text": [
      "NeuralNetwork(\n",
      "  (flatten): Flatten(start_dim=1, end_dim=-1)\n",
      "  (linear_relu_stack): Sequential(\n",
      "    (0): Linear(in_features=784, out_features=512, bias=True)\n",
      "    (1): ReLU()\n",
      "    (2): Linear(in_features=512, out_features=512, bias=True)\n",
      "    (3): ReLU()\n",
      "    (4): Linear(in_features=512, out_features=10, bias=True)\n",
      "  )\n",
      ")\n"
     ]
    }
   ],
   "source": [
    "# NeuralNetwork의 인스턴스를 생성하고 이를 device로 이동시킨 뒤 구조 출력하기\n",
    "\n",
    "model = NeuralNetwork().to(device)\n",
    "print(model)"
   ]
  },
  {
   "cell_type": "code",
   "execution_count": 6,
   "metadata": {},
   "outputs": [
    {
     "name": "stdout",
     "output_type": "stream",
     "text": [
      "Predicted Class : tensor([8])\n"
     ]
    }
   ],
   "source": [
    "# 모델 사용 위해 입력 데이터 전달 - 일부 백그라운드 연산들과 함께 모델의 forward를 실행하게 됨\n",
    "# model.forward()를 직접 호출해서는 안됨\n",
    "# 모델에 입력을 넣어 호출하면 각 class에 대한 raw 예측값이 있는 10차원의 텐서가 반환됨, 이를 nn.Softmax 모듈 인스턴스에 통과시켜 예측 확률 얻을 수 있음\n",
    "\n",
    "X = torch.rand(1, 28, 28, device = device)\n",
    "logits = model(X)\n",
    "pred_probab = nn.Softmax(dim = 1)(logits)\n",
    "y_pred = pred_probab.argmax(1)\n",
    "print(f'Predicted Class : {y_pred}')"
   ]
  },
  {
   "cell_type": "code",
   "execution_count": 7,
   "metadata": {},
   "outputs": [
    {
     "name": "stdout",
     "output_type": "stream",
     "text": [
      "torch.Size([3, 28, 28])\n"
     ]
    }
   ],
   "source": [
    "# 각각의 모델 계층 살펴보기\n",
    "\n",
    "input_image = torch.rand(3, 28, 28)\n",
    "print(input_image.size())"
   ]
  },
  {
   "cell_type": "code",
   "execution_count": 8,
   "metadata": {},
   "outputs": [
    {
     "name": "stdout",
     "output_type": "stream",
     "text": [
      "torch.Size([3, 784])\n"
     ]
    }
   ],
   "source": [
    "# Flatten 레이어를 초기화하여 28*28 2D이미지를 784 픽셀값을 갖는 연속된 배열로 반환합니다.\n",
    "flatten = nn.Flatten()\n",
    "flat_image = flatten(input_image)\n",
    "print(flat_image.size())"
   ]
  },
  {
   "cell_type": "code",
   "execution_count": 9,
   "metadata": {},
   "outputs": [
    {
     "name": "stdout",
     "output_type": "stream",
     "text": [
      "torch.Size([3, 20])\n"
     ]
    }
   ],
   "source": [
    "# Linear 계층은 저장된 weigt과 bias를 사용하여 입력에 linear trasnformation을 적용하는 모듈\n",
    "\n",
    "layer1 = nn.Linear(in_features=28*28, out_features=20)\n",
    "hidden1 = layer1(flat_image)\n",
    "print(hidden1.size())"
   ]
  },
  {
   "cell_type": "code",
   "execution_count": 10,
   "metadata": {},
   "outputs": [
    {
     "name": "stdout",
     "output_type": "stream",
     "text": [
      "Before ReLU : tensor([[ 0.0054, -0.8662, -0.5101, -0.1615,  0.2329,  0.0710, -0.2884,  0.1770,\n",
      "          0.0707,  0.6733,  0.2663,  0.3544, -0.3589, -0.3568,  0.3350, -0.1779,\n",
      "          0.3456,  0.0441, -0.0232,  0.1232],\n",
      "        [ 0.2487, -1.1259, -0.4552,  0.2732,  0.3317,  0.0613, -0.0941,  0.1861,\n",
      "         -0.1735,  0.9402, -0.2034, -0.0833, -0.3405, -0.5075,  0.4993, -0.0342,\n",
      "          0.3201,  0.4867,  0.0808,  0.2674],\n",
      "        [ 0.1422, -1.0758, -0.5911,  0.0733,  0.0588,  0.2367,  0.1300,  0.1350,\n",
      "         -0.2161,  0.6208, -0.2088, -0.1420, -0.4745, -0.5145,  0.4360, -0.2027,\n",
      "          0.0956,  0.0710, -0.1936, -0.0484]], grad_fn=<AddmmBackward>)\n",
      "\n",
      "\n",
      "After ReLU : tensor([[0.0054, 0.0000, 0.0000, 0.0000, 0.2329, 0.0710, 0.0000, 0.1770, 0.0707,\n",
      "         0.6733, 0.2663, 0.3544, 0.0000, 0.0000, 0.3350, 0.0000, 0.3456, 0.0441,\n",
      "         0.0000, 0.1232],\n",
      "        [0.2487, 0.0000, 0.0000, 0.2732, 0.3317, 0.0613, 0.0000, 0.1861, 0.0000,\n",
      "         0.9402, 0.0000, 0.0000, 0.0000, 0.0000, 0.4993, 0.0000, 0.3201, 0.4867,\n",
      "         0.0808, 0.2674],\n",
      "        [0.1422, 0.0000, 0.0000, 0.0733, 0.0588, 0.2367, 0.1300, 0.1350, 0.0000,\n",
      "         0.6208, 0.0000, 0.0000, 0.0000, 0.0000, 0.4360, 0.0000, 0.0956, 0.0710,\n",
      "         0.0000, 0.0000]], grad_fn=<ReluBackward0>)\n"
     ]
    }
   ],
   "source": [
    "# ReLU 계층은 입력과 출력 사이에 복잡한 관계를 만들어 냄\n",
    "## 비선형 활성화 : 선형 변환 후에 적용되어 비선형성을 도입하고, 신경망이 다양한 현상을 학습할 수 있도록 도움\n",
    "\n",
    "print(f'Before ReLU : {hidden1}\\n\\n')\n",
    "hidden1 = nn.ReLU()(hidden1)\n",
    "print(f'After ReLU : {hidden1}')"
   ]
  },
  {
   "cell_type": "code",
   "execution_count": 12,
   "metadata": {},
   "outputs": [],
   "source": [
    "# Sequential : 순서를 갖는 모듈의 컨테이너\n",
    "\n",
    "seq_modules = nn.Sequential(\n",
    "    flatten,\n",
    "    layer1,\n",
    "    nn.ReLU(),\n",
    "    nn.Linear(20, 10))\n",
    "\n",
    "input_image = torch.rand(3, 28, 28)\n",
    "logits = seq_modules(input_image)"
   ]
  },
  {
   "cell_type": "code",
   "execution_count": 13,
   "metadata": {},
   "outputs": [],
   "source": [
    "# nn.Softmax\n",
    "# 신경망의 마지막 계층은 [-infinity, infinity] 범위의 raw value인 logits를 반환함.\n",
    "# logits는 모델의 각 class에 대한 예측 확률을 나타내도록 [0,1] 범위로 비례 조정됨\n",
    "# dim 매개변수는 값의 합이 1이되는 차원을 의미함\n",
    "\n",
    "softmax = nn.Softmax(dim = 1)\n",
    "pred_probab = softmax(logits)"
   ]
  },
  {
   "cell_type": "code",
   "execution_count": 15,
   "metadata": {},
   "outputs": [
    {
     "name": "stdout",
     "output_type": "stream",
     "text": [
      "Model Structure : NeuralNetwork(\n",
      "  (flatten): Flatten(start_dim=1, end_dim=-1)\n",
      "  (linear_relu_stack): Sequential(\n",
      "    (0): Linear(in_features=784, out_features=512, bias=True)\n",
      "    (1): ReLU()\n",
      "    (2): Linear(in_features=512, out_features=512, bias=True)\n",
      "    (3): ReLU()\n",
      "    (4): Linear(in_features=512, out_features=10, bias=True)\n",
      "  )\n",
      ") \n",
      "\n",
      "\n",
      "Layer : linear_relu_stack.0.weight | Size : torch.Size([512, 784]) | Values : tensor([[ 0.0124,  0.0039, -0.0136,  ..., -0.0202, -0.0210, -0.0224],\n",
      "        [ 0.0335, -0.0060,  0.0330,  ..., -0.0158,  0.0082, -0.0132]],\n",
      "       grad_fn=<SliceBackward>) \n",
      "\n",
      "Layer : linear_relu_stack.0.bias | Size : torch.Size([512]) | Values : tensor([-0.0133,  0.0216], grad_fn=<SliceBackward>) \n",
      "\n",
      "Layer : linear_relu_stack.2.weight | Size : torch.Size([512, 512]) | Values : tensor([[-0.0098,  0.0404,  0.0347,  ...,  0.0151,  0.0220,  0.0040],\n",
      "        [ 0.0205,  0.0420,  0.0197,  ...,  0.0108, -0.0013,  0.0336]],\n",
      "       grad_fn=<SliceBackward>) \n",
      "\n",
      "Layer : linear_relu_stack.2.bias | Size : torch.Size([512]) | Values : tensor([ 0.0331, -0.0434], grad_fn=<SliceBackward>) \n",
      "\n",
      "Layer : linear_relu_stack.4.weight | Size : torch.Size([10, 512]) | Values : tensor([[ 0.0399,  0.0023, -0.0283,  ..., -0.0197,  0.0399,  0.0306],\n",
      "        [-0.0309,  0.0241, -0.0225,  ..., -0.0184,  0.0067, -0.0160]],\n",
      "       grad_fn=<SliceBackward>) \n",
      "\n",
      "Layer : linear_relu_stack.4.bias | Size : torch.Size([10]) | Values : tensor([ 0.0410, -0.0415], grad_fn=<SliceBackward>) \n",
      "\n"
     ]
    }
   ],
   "source": [
    "# 모델 매개변수\n",
    "## 신경망 내부의 많은 layer는 매개변수화됨 -> 학습 중에 최적화되는 가중치, 편향과 연관되어짐\n",
    "## nn.Module을 상속하면 모델 객체 내부의 모든 필드들이 자동으로 추적되며, 모델의 parameters(), named_parameters() 메소드로 모든 매개변수에 접근 가능\n",
    "print('Model Structure :', model, '\\n\\n')\n",
    "\n",
    "for name, param in model.named_parameters():\n",
    "    print(f'Layer : {name} | Size : {param.size()} | Values : {param[:2]} \\n')"
   ]
  },
  {
   "cell_type": "code",
   "execution_count": null,
   "metadata": {},
   "outputs": [],
   "source": []
  }
 ],
 "metadata": {
  "kernelspec": {
   "display_name": "Python 3",
   "language": "python",
   "name": "python3"
  },
  "language_info": {
   "codemirror_mode": {
    "name": "ipython",
    "version": 3
   },
   "file_extension": ".py",
   "mimetype": "text/x-python",
   "name": "python",
   "nbconvert_exporter": "python",
   "pygments_lexer": "ipython3",
   "version": "3.8.5"
  }
 },
 "nbformat": 4,
 "nbformat_minor": 4
}
